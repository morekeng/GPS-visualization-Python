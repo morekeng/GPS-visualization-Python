{
 "cells": [
  {
   "cell_type": "code",
   "execution_count": 207,
   "id": "d1ab7443",
   "metadata": {},
   "outputs": [],
   "source": [
    "import pandas as pd\n",
    "import numpy as np\n",
    "from scipy.stats import norm\n",
    "import matplotlib.pyplot as plt\n",
    "\n",
    "\n",
    "base = pd.read_csv('2021-11-17_162245_VMMS_DATA.csv', names=['LATITUDE', 'LONGITUDE','HEADING', 'TIME'], sep=',', skiprows = 1)\n",
    "\n",
    "with pd.option_context('display.precision', 2):\n",
    "    rover = pd.read_csv('Updated_GPS_17.CSV', names=['TIME','LATITUDE', 'LONGITUDE','HEADING'], sep=',', skiprows = 1, float_precision = None)"
   ]
  },
  {
   "cell_type": "code",
   "execution_count": 208,
   "id": "46af3379",
   "metadata": {
    "scrolled": false
   },
   "outputs": [
    {
     "name": "stdout",
     "output_type": "stream",
     "text": [
      "        LATITUDE  LONGITUDE  HEADING                      TIME\n",
      "0      51.530305  -0.060362    359.0  2021-11-17T16:22:45.873Z\n",
      "1      51.530305  -0.060362    359.0  2021-11-17T16:22:45.924Z\n",
      "2      51.530305  -0.060362    359.0  2021-11-17T16:22:45.973Z\n",
      "3      51.530305  -0.060362    359.0  2021-11-17T16:22:46.024Z\n",
      "4      51.530305  -0.060362    359.0  2021-11-17T16:22:46.074Z\n",
      "...          ...        ...      ...                       ...\n",
      "13534  51.530305  -0.060362    359.0  2021-11-17T16:34:12.442Z\n",
      "13535  51.530305  -0.060362    359.0  2021-11-17T16:34:12.493Z\n",
      "13536  51.530305  -0.060362    359.0  2021-11-17T16:34:12.543Z\n",
      "13537  51.530305  -0.060362    359.0  2021-11-17T16:34:12.594Z\n",
      "13538  51.530305  -0.060362    359.0  2021-11-17T16:34:12.649Z\n",
      "\n",
      "[13539 rows x 4 columns]\n"
     ]
    }
   ],
   "source": [
    "base.dropna(inplace=True)\n",
    "base.reset_index(drop=True, inplace=True)\n"
   ]
  },
  {
   "cell_type": "code",
   "execution_count": 284,
   "id": "a41d8921",
   "metadata": {},
   "outputs": [],
   "source": [
    "fixed_point = [51.53042875670798, -0.060095195270275834]\n",
    "\n",
    "long_lat_vectors = []\n",
    "for row in range(len(base)):\n",
    "    time_str = base.iloc[row]['TIME']\n",
    "    new_time_str = time_str[11:19]\n",
    "    long_lat_vectors.append([new_time_str,base.iloc[row]['LATITUDE']-fixed_point[0],base.iloc[row]['LONGITUDE']-fixed_point[1]])"
   ]
  },
  {
   "cell_type": "code",
   "execution_count": 293,
   "id": "9f945a8b",
   "metadata": {
    "scrolled": true
   },
   "outputs": [
    {
     "name": "stdout",
     "output_type": "stream",
     "text": [
      "16:30:20\n",
      "16:30:60\n",
      "16:30:90\n",
      "16:31:30\n",
      "16:31:70\n",
      "16:32:20\n",
      "16:32:60\n",
      "16:32:90\n",
      "            0         1         2\n",
      "0    16:22:45 -0.000124 -0.000266\n",
      "1    16:22:46 -0.000124 -0.000266\n",
      "2    16:22:47 -0.000124 -0.000266\n",
      "3    16:22:48 -0.000124 -0.000266\n",
      "4    16:22:49 -0.000124 -0.000266\n",
      "..        ...       ...       ...\n",
      "683  16:34:08 -0.000124 -0.000266\n",
      "684  16:34:09 -0.000124 -0.000266\n",
      "685  16:34:10 -0.000124 -0.000266\n",
      "686  16:34:11 -0.000124 -0.000266\n",
      "687  16:34:12 -0.000124 -0.000266\n",
      "\n",
      "[688 rows x 3 columns]\n"
     ]
    }
   ],
   "source": [
    "base_df = pd.DataFrame(long_lat_vectors)\n",
    "base_df = base_df.drop_duplicates(subset=[0], keep='first')\n",
    "base_df.reset_index(drop=True, inplace=True)\n",
    "\n",
    "for time_stamp in range(len(rover)):\n",
    "    Stamp1 = rover.iloc[time_stamp]['TIME']\n",
    "    try:\n",
    "        rover.iloc[time_stamp]['TIME'][7]\n",
    "        Stamp1[7]\n",
    "    except:\n",
    "        Stamp2 = Stamp1 + '0'\n",
    "        print(Stamp2)\n",
    "        rover.replace(Stamp1, Stamp2)\n",
    "\n",
    "        \n",
    "#print(rover)\n",
    "print(base_df)\n",
    "\n"
   ]
  },
  {
   "cell_type": "code",
   "execution_count": 278,
   "id": "39af442c",
   "metadata": {},
   "outputs": [
    {
     "name": "stdout",
     "output_type": "stream",
     "text": [
      "[51.53006790995868, 51.53005957662535, 51.53001957662536, 51.52998624329202, 51.529971243292024, 51.529962909958684, 51.52988957662536]\n"
     ]
    }
   ],
   "source": [
    "uptd_rover_lat = []\n",
    "uptd_rover_long =[]\n",
    "for i in range(7): #len(rover)):\n",
    "    try:\n",
    "        time_position = np.where(base_df == rover.iloc[i]['TIME'])\n",
    "        lat_offset = base_df.iloc[time_position[0][0]][1]\n",
    "        long_offset = base_df.iloc[time_position[0][0]][2]\n",
    "        uptd_rover_lat.append(rover.iloc[i]['LATITUDE'] + lat_offset)\n",
    "        uptd_rover_long.append(rover.iloc[i]['LONGITUDE'] + long_offset)\n",
    "    except:\n",
    "        \n",
    "\n",
    "        \n",
    "print(uptd_rover_lat)"
   ]
  }
 ],
 "metadata": {
  "kernelspec": {
   "display_name": "Python 3 (ipykernel)",
   "language": "python",
   "name": "python3"
  },
  "language_info": {
   "codemirror_mode": {
    "name": "ipython",
    "version": 3
   },
   "file_extension": ".py",
   "mimetype": "text/x-python",
   "name": "python",
   "nbconvert_exporter": "python",
   "pygments_lexer": "ipython3",
   "version": "3.9.7"
  }
 },
 "nbformat": 4,
 "nbformat_minor": 5
}
